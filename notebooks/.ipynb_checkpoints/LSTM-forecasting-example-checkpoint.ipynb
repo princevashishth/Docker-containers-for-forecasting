{
 "cells": [
  {
   "cell_type": "markdown",
   "metadata": {
    "id": "RmmDtGsu2YRH"
   },
   "source": [
    "## LSTM for Single Step Time Series Forcasting"
   ]
  },
  {
   "cell_type": "markdown",
   "metadata": {
    "id": "ThknG9M82k3P"
   },
   "source": [
    "### Import Libraries"
   ]
  },
  {
   "cell_type": "code",
   "execution_count": null,
   "metadata": {
    "id": "NoWOaLPM15_4"
   },
   "outputs": [],
   "source": [
    "import numpy as np\n",
    "from tensorflow.keras.models import Sequential\n",
    "from tensorflow.keras.layers import LSTM, Dense"
   ]
  },
  {
   "cell_type": "markdown",
   "metadata": {
    "id": "Wi_HK2ua2eBB"
   },
   "source": [
    "### Convert Time series to Supervised Data"
   ]
  },
  {
   "cell_type": "code",
   "execution_count": null,
   "metadata": {
    "id": "TXq3X6wB16AA"
   },
   "outputs": [],
   "source": [
    "def to_supervised(data,n_in,n_out=1):\n",
    "    X,y = list(), list()\n",
    "    for i in range(n_in,len(data)):\n",
    "        if i + n_out <= len(data):\n",
    "            X.append(data[i-n_in:i]) #Ex: data[3 - 3 : 3] --> data[4 - 3 : 4] ...\n",
    "            y.append(data[i:i+n_out]) #Ex: data[3 : 3 + 1] --> data[4 : 4 + 1] ...\n",
    "    return np.array(X), np.array(y)"
   ]
  },
  {
   "cell_type": "code",
   "execution_count": null,
   "metadata": {
    "id": "Kx_STy23MpOV"
   },
   "outputs": [],
   "source": [
    "# time_series => [10,20,30,40,50,60,70,80,90]\n",
    " \n",
    "# supervised_data =>  [10 20 30] [40]\n",
    "#                     [20 30 40] [50]\n",
    "#                     [30 40 50] [60]\n",
    "#                     [40 50 60] [70]\n",
    "#                     [50 60 70] [80]\n",
    "#                     [60 70 80] [90]  "
   ]
  },
  {
   "cell_type": "markdown",
   "metadata": {
    "id": "EwJmk9Nr2fAY"
   },
   "source": [
    "### Reshape the training data\n",
    "> Because the LSTM requires the data to be 3 Dimentional Vector, So this is a mandatory Step if the training data is not 3 Dimentional already.\n",
    "\n",
    "The new shape will turn out to be: \n",
    "`(instances, timesteps, features)`"
   ]
  },
  {
   "cell_type": "code",
   "execution_count": null,
   "metadata": {
    "id": "qZ0y0UlN16AF"
   },
   "outputs": [],
   "source": [
    "def reshape(data,n_features = 1):\n",
    "    return data.reshape(data.shape[0],data.shape[1],n_features)"
   ]
  },
  {
   "cell_type": "markdown",
   "metadata": {
    "id": "G0j9mXpA2gA1"
   },
   "source": [
    "### Build the model\n",
    "> Fitting all the pieces together"
   ]
  },
  {
   "cell_type": "code",
   "execution_count": null,
   "metadata": {
    "id": "i96960SQ16AJ"
   },
   "outputs": [],
   "source": [
    "def build_model(data,n_in,n_out):    \n",
    "    X,y = to_supervised(data,n_in,n_out)\n",
    "    X = reshape(X)\n",
    "    \n",
    "    model = Sequential([\n",
    "        LSTM(100,activation='relu', input_shape=(X.shape[1],1)),\n",
    "        Dense(n_out)\n",
    "    ])\n",
    "    model.compile(optimizer='adam', loss='mse')\n",
    "    model.fit(X,y,epochs=200,verbose=2)\n",
    "    return model"
   ]
  },
  {
   "cell_type": "markdown",
   "metadata": {
    "id": "YYjHBxIj2i_K"
   },
   "source": [
    "### Call the `build_model` function and provide the appropriate arguments."
   ]
  },
  {
   "cell_type": "code",
   "execution_count": null,
   "metadata": {
    "colab": {
     "base_uri": "https://localhost:8080/",
     "height": 1000
    },
    "executionInfo": {
     "elapsed": 5805,
     "status": "ok",
     "timestamp": 1596737249140,
     "user": {
      "displayName": "Deepanshu Choudhary",
      "photoUrl": "https://lh3.googleusercontent.com/a-/AOh14GhrrPB-FIXrpxMbNtdeFA3KeLw0nxuBrbMNb02d=s64",
      "userId": "16618687197378836235"
     },
     "user_tz": -330
    },
    "id": "9WI9irzx16AP",
    "outputId": "8242a664-448c-4c54-b026-492650eaf4c6"
   },
   "outputs": [
    {
     "name": "stdout",
     "output_type": "stream",
     "text": [
      "Epoch 1/200\n",
      "1/1 - 0s - loss: 4915.6851\n",
      "Epoch 2/200\n",
      "1/1 - 0s - loss: 4823.7153\n",
      "Epoch 3/200\n",
      "1/1 - 0s - loss: 4734.0352\n",
      "Epoch 4/200\n",
      "1/1 - 0s - loss: 4646.4868\n",
      "Epoch 5/200\n",
      "1/1 - 0s - loss: 4560.9321\n",
      "Epoch 6/200\n",
      "1/1 - 0s - loss: 4477.0933\n",
      "Epoch 7/200\n",
      "1/1 - 0s - loss: 4394.4282\n",
      "Epoch 8/200\n",
      "1/1 - 0s - loss: 4312.3052\n",
      "Epoch 9/200\n",
      "1/1 - 0s - loss: 4230.1211\n",
      "Epoch 10/200\n",
      "1/1 - 0s - loss: 4147.1782\n",
      "Epoch 11/200\n",
      "1/1 - 0s - loss: 4062.7712\n",
      "Epoch 12/200\n",
      "1/1 - 0s - loss: 3976.1904\n",
      "Epoch 13/200\n",
      "1/1 - 0s - loss: 3886.8887\n",
      "Epoch 14/200\n",
      "1/1 - 0s - loss: 3795.6077\n",
      "Epoch 15/200\n",
      "1/1 - 0s - loss: 3700.8723\n",
      "Epoch 16/200\n",
      "1/1 - 0s - loss: 3601.1174\n",
      "Epoch 17/200\n",
      "1/1 - 0s - loss: 3495.3086\n",
      "Epoch 18/200\n",
      "1/1 - 0s - loss: 3382.9043\n",
      "Epoch 19/200\n",
      "1/1 - 0s - loss: 3263.2976\n",
      "Epoch 20/200\n",
      "1/1 - 0s - loss: 3135.6113\n",
      "Epoch 21/200\n",
      "1/1 - 0s - loss: 2998.9553\n",
      "Epoch 22/200\n",
      "1/1 - 0s - loss: 2852.8645\n",
      "Epoch 23/200\n",
      "1/1 - 0s - loss: 2696.9338\n",
      "Epoch 24/200\n",
      "1/1 - 0s - loss: 2530.0940\n",
      "Epoch 25/200\n",
      "1/1 - 0s - loss: 2352.1790\n",
      "Epoch 26/200\n",
      "1/1 - 0s - loss: 2162.7070\n",
      "Epoch 27/200\n",
      "1/1 - 0s - loss: 1961.1754\n",
      "Epoch 28/200\n",
      "1/1 - 0s - loss: 1747.6949\n",
      "Epoch 29/200\n",
      "1/1 - 0s - loss: 1523.8829\n",
      "Epoch 30/200\n",
      "1/1 - 0s - loss: 1294.6676\n",
      "Epoch 31/200\n",
      "1/1 - 0s - loss: 1068.1200\n",
      "Epoch 32/200\n",
      "1/1 - 0s - loss: 853.2452\n",
      "Epoch 33/200\n",
      "1/1 - 0s - loss: 657.2707\n",
      "Epoch 34/200\n",
      "1/1 - 0s - loss: 486.1537\n",
      "Epoch 35/200\n",
      "1/1 - 0s - loss: 346.4415\n",
      "Epoch 36/200\n",
      "1/1 - 0s - loss: 246.4764\n",
      "Epoch 37/200\n",
      "1/1 - 0s - loss: 193.8704\n",
      "Epoch 38/200\n",
      "1/1 - 0s - loss: 188.9969\n",
      "Epoch 39/200\n",
      "1/1 - 0s - loss: 220.2748\n",
      "Epoch 40/200\n",
      "1/1 - 0s - loss: 267.3844\n",
      "Epoch 41/200\n",
      "1/1 - 0s - loss: 311.7364\n",
      "Epoch 42/200\n",
      "1/1 - 0s - loss: 341.3583\n",
      "Epoch 43/200\n",
      "1/1 - 0s - loss: 351.3092\n",
      "Epoch 44/200\n",
      "1/1 - 0s - loss: 342.3234\n",
      "Epoch 45/200\n",
      "1/1 - 0s - loss: 318.7225\n",
      "Epoch 46/200\n",
      "1/1 - 0s - loss: 286.3351\n",
      "Epoch 47/200\n",
      "1/1 - 0s - loss: 250.7493\n",
      "Epoch 48/200\n",
      "1/1 - 0s - loss: 216.3338\n",
      "Epoch 49/200\n",
      "1/1 - 0s - loss: 186.0598\n",
      "Epoch 50/200\n",
      "1/1 - 0s - loss: 161.7235\n",
      "Epoch 51/200\n",
      "1/1 - 0s - loss: 144.0939\n",
      "Epoch 52/200\n",
      "1/1 - 0s - loss: 133.0015\n",
      "Epoch 53/200\n",
      "1/1 - 0s - loss: 127.4215\n",
      "Epoch 54/200\n",
      "1/1 - 0s - loss: 125.8953\n",
      "Epoch 55/200\n",
      "1/1 - 0s - loss: 126.8517\n",
      "Epoch 56/200\n",
      "1/1 - 0s - loss: 128.9021\n",
      "Epoch 57/200\n",
      "1/1 - 0s - loss: 130.9028\n",
      "Epoch 58/200\n",
      "1/1 - 0s - loss: 131.9510\n",
      "Epoch 59/200\n",
      "1/1 - 0s - loss: 131.4580\n",
      "Epoch 60/200\n",
      "1/1 - 0s - loss: 129.1732\n",
      "Epoch 61/200\n",
      "1/1 - 0s - loss: 125.1188\n",
      "Epoch 62/200\n",
      "1/1 - 0s - loss: 119.5428\n",
      "Epoch 63/200\n",
      "1/1 - 0s - loss: 112.9094\n",
      "Epoch 64/200\n",
      "1/1 - 0s - loss: 105.8959\n",
      "Epoch 65/200\n",
      "1/1 - 0s - loss: 99.3093\n",
      "Epoch 66/200\n",
      "1/1 - 0s - loss: 93.8367\n",
      "Epoch 67/200\n",
      "1/1 - 0s - loss: 89.8059\n",
      "Epoch 68/200\n",
      "1/1 - 0s - loss: 87.1251\n",
      "Epoch 69/200\n",
      "1/1 - 0s - loss: 85.2938\n",
      "Epoch 70/200\n",
      "1/1 - 0s - loss: 83.5430\n",
      "Epoch 71/200\n",
      "1/1 - 0s - loss: 81.0885\n",
      "Epoch 72/200\n",
      "1/1 - 0s - loss: 77.4860\n",
      "Epoch 73/200\n",
      "1/1 - 0s - loss: 72.7499\n",
      "Epoch 74/200\n",
      "1/1 - 0s - loss: 67.3031\n",
      "Epoch 75/200\n",
      "1/1 - 0s - loss: 61.8117\n",
      "Epoch 76/200\n",
      "1/1 - 0s - loss: 56.8702\n",
      "Epoch 77/200\n",
      "1/1 - 0s - loss: 52.7000\n",
      "Epoch 78/200\n",
      "1/1 - 0s - loss: 49.1436\n",
      "Epoch 79/200\n",
      "1/1 - 0s - loss: 45.9047\n",
      "Epoch 80/200\n",
      "1/1 - 0s - loss: 42.7447\n",
      "Epoch 81/200\n",
      "1/1 - 0s - loss: 39.5506\n",
      "Epoch 82/200\n",
      "1/1 - 0s - loss: 36.3195\n",
      "Epoch 83/200\n",
      "1/1 - 0s - loss: 33.1349\n",
      "Epoch 84/200\n",
      "1/1 - 0s - loss: 30.1294\n",
      "Epoch 85/200\n",
      "1/1 - 0s - loss: 27.4303\n",
      "Epoch 86/200\n",
      "1/1 - 0s - loss: 25.0688\n",
      "Epoch 87/200\n",
      "1/1 - 0s - loss: 22.9275\n",
      "Epoch 88/200\n",
      "1/1 - 0s - loss: 20.8360\n",
      "Epoch 89/200\n",
      "1/1 - 0s - loss: 18.7283\n",
      "Epoch 90/200\n",
      "1/1 - 0s - loss: 16.6845\n",
      "Epoch 91/200\n",
      "1/1 - 0s - loss: 14.8511\n",
      "Epoch 92/200\n",
      "1/1 - 0s - loss: 13.3192\n",
      "Epoch 93/200\n",
      "1/1 - 0s - loss: 12.0928\n",
      "Epoch 94/200\n",
      "1/1 - 0s - loss: 11.0890\n",
      "Epoch 95/200\n",
      "1/1 - 0s - loss: 10.2183\n",
      "Epoch 96/200\n",
      "1/1 - 0s - loss: 9.4342\n",
      "Epoch 97/200\n",
      "1/1 - 0s - loss: 8.7465\n",
      "Epoch 98/200\n",
      "1/1 - 0s - loss: 8.1912\n",
      "Epoch 99/200\n",
      "1/1 - 0s - loss: 7.7760\n",
      "Epoch 100/200\n",
      "1/1 - 0s - loss: 7.4489\n",
      "Epoch 101/200\n",
      "1/1 - 0s - loss: 7.1268\n",
      "Epoch 102/200\n",
      "1/1 - 0s - loss: 6.7612\n",
      "Epoch 103/200\n",
      "1/1 - 0s - loss: 6.3571\n",
      "Epoch 104/200\n",
      "1/1 - 0s - loss: 5.9514\n",
      "Epoch 105/200\n",
      "1/1 - 0s - loss: 5.5748\n",
      "Epoch 106/200\n",
      "1/1 - 0s - loss: 5.2347\n",
      "Epoch 107/200\n",
      "1/1 - 0s - loss: 4.9220\n",
      "Epoch 108/200\n",
      "1/1 - 0s - loss: 4.6251\n",
      "Epoch 109/200\n",
      "1/1 - 0s - loss: 4.3399\n",
      "Epoch 110/200\n",
      "1/1 - 0s - loss: 4.0709\n",
      "Epoch 111/200\n",
      "1/1 - 0s - loss: 3.8261\n",
      "Epoch 112/200\n",
      "1/1 - 0s - loss: 3.6108\n",
      "Epoch 113/200\n",
      "1/1 - 0s - loss: 3.4232\n",
      "Epoch 114/200\n",
      "1/1 - 0s - loss: 3.2562\n",
      "Epoch 115/200\n",
      "1/1 - 0s - loss: 3.1019\n",
      "Epoch 116/200\n",
      "1/1 - 0s - loss: 2.9555\n",
      "Epoch 117/200\n",
      "1/1 - 0s - loss: 2.8167\n",
      "Epoch 118/200\n",
      "1/1 - 0s - loss: 2.6875\n",
      "Epoch 119/200\n",
      "1/1 - 0s - loss: 2.5695\n",
      "Epoch 120/200\n",
      "1/1 - 0s - loss: 2.4626\n",
      "Epoch 121/200\n",
      "1/1 - 0s - loss: 2.3642\n",
      "Epoch 122/200\n",
      "1/1 - 0s - loss: 2.2711\n",
      "Epoch 123/200\n",
      "1/1 - 0s - loss: 2.1811\n",
      "Epoch 124/200\n",
      "1/1 - 0s - loss: 2.0933\n",
      "Epoch 125/200\n",
      "1/1 - 0s - loss: 2.0086\n",
      "Epoch 126/200\n",
      "1/1 - 0s - loss: 1.9281\n",
      "Epoch 127/200\n",
      "1/1 - 0s - loss: 1.8530\n",
      "Epoch 128/200\n",
      "1/1 - 0s - loss: 1.7831\n",
      "Epoch 129/200\n",
      "1/1 - 0s - loss: 1.7178\n",
      "Epoch 130/200\n",
      "1/1 - 0s - loss: 1.6562\n",
      "Epoch 131/200\n",
      "1/1 - 0s - loss: 1.5975\n",
      "Epoch 132/200\n",
      "1/1 - 0s - loss: 1.5420\n",
      "Epoch 133/200\n",
      "1/1 - 0s - loss: 1.4900\n",
      "Epoch 134/200\n",
      "1/1 - 0s - loss: 1.4419\n",
      "Epoch 135/200\n",
      "1/1 - 0s - loss: 1.3978\n",
      "Epoch 136/200\n",
      "1/1 - 0s - loss: 1.3572\n",
      "Epoch 137/200\n",
      "1/1 - 0s - loss: 1.3193\n",
      "Epoch 138/200\n",
      "1/1 - 0s - loss: 1.2834\n",
      "Epoch 139/200\n",
      "1/1 - 0s - loss: 1.2490\n",
      "Epoch 140/200\n",
      "1/1 - 0s - loss: 1.2161\n",
      "Epoch 141/200\n",
      "1/1 - 0s - loss: 1.1849\n",
      "Epoch 142/200\n",
      "1/1 - 0s - loss: 1.1553\n",
      "Epoch 143/200\n",
      "1/1 - 0s - loss: 1.1272\n",
      "Epoch 144/200\n",
      "1/1 - 0s - loss: 1.1005\n",
      "Epoch 145/200\n",
      "1/1 - 0s - loss: 1.0749\n",
      "Epoch 146/200\n",
      "1/1 - 0s - loss: 1.0503\n",
      "Epoch 147/200\n",
      "1/1 - 0s - loss: 1.0267\n",
      "Epoch 148/200\n",
      "1/1 - 0s - loss: 1.0041\n",
      "Epoch 149/200\n",
      "1/1 - 0s - loss: 0.9827\n",
      "Epoch 150/200\n",
      "1/1 - 0s - loss: 0.9626\n",
      "Epoch 151/200\n",
      "1/1 - 0s - loss: 0.9436\n",
      "Epoch 152/200\n",
      "1/1 - 0s - loss: 0.9256\n",
      "Epoch 153/200\n",
      "1/1 - 0s - loss: 0.9084\n",
      "Epoch 154/200\n",
      "1/1 - 0s - loss: 0.8920\n",
      "Epoch 155/200\n",
      "1/1 - 0s - loss: 0.8762\n",
      "Epoch 156/200\n",
      "1/1 - 0s - loss: 0.8611\n",
      "Epoch 157/200\n",
      "1/1 - 0s - loss: 0.8466\n",
      "Epoch 158/200\n",
      "1/1 - 0s - loss: 0.8327\n",
      "Epoch 159/200\n",
      "1/1 - 0s - loss: 0.8193\n",
      "Epoch 160/200\n",
      "1/1 - 0s - loss: 0.8063\n",
      "Epoch 161/200\n",
      "1/1 - 0s - loss: 0.7936\n",
      "Epoch 162/200\n",
      "1/1 - 0s - loss: 0.7813\n",
      "Epoch 163/200\n",
      "1/1 - 0s - loss: 0.7694\n",
      "Epoch 164/200\n",
      "1/1 - 0s - loss: 0.7578\n",
      "Epoch 165/200\n",
      "1/1 - 0s - loss: 0.7467\n",
      "Epoch 166/200\n",
      "1/1 - 0s - loss: 0.7359\n",
      "Epoch 167/200\n",
      "1/1 - 0s - loss: 0.7254\n",
      "Epoch 168/200\n",
      "1/1 - 0s - loss: 0.7152\n",
      "Epoch 169/200\n",
      "1/1 - 0s - loss: 0.7052\n",
      "Epoch 170/200\n",
      "1/1 - 0s - loss: 0.6955\n",
      "Epoch 171/200\n",
      "1/1 - 0s - loss: 0.6861\n",
      "Epoch 172/200\n",
      "1/1 - 0s - loss: 0.6769\n",
      "Epoch 173/200\n",
      "1/1 - 0s - loss: 0.6679\n",
      "Epoch 174/200\n",
      "1/1 - 0s - loss: 0.6592\n",
      "Epoch 175/200\n",
      "1/1 - 0s - loss: 0.6505\n",
      "Epoch 176/200\n",
      "1/1 - 0s - loss: 0.6421\n",
      "Epoch 177/200\n",
      "1/1 - 0s - loss: 0.6338\n",
      "Epoch 178/200\n",
      "1/1 - 0s - loss: 0.6256\n",
      "Epoch 179/200\n",
      "1/1 - 0s - loss: 0.6176\n",
      "Epoch 180/200\n",
      "1/1 - 0s - loss: 0.6097\n",
      "Epoch 181/200\n",
      "1/1 - 0s - loss: 0.6019\n",
      "Epoch 182/200\n",
      "1/1 - 0s - loss: 0.5943\n",
      "Epoch 183/200\n",
      "1/1 - 0s - loss: 0.5868\n",
      "Epoch 184/200\n",
      "1/1 - 0s - loss: 0.5794\n",
      "Epoch 185/200\n",
      "1/1 - 0s - loss: 0.5721\n",
      "Epoch 186/200\n",
      "1/1 - 0s - loss: 0.5650\n",
      "Epoch 187/200\n",
      "1/1 - 0s - loss: 0.5579\n",
      "Epoch 188/200\n",
      "1/1 - 0s - loss: 0.5510\n",
      "Epoch 189/200\n",
      "1/1 - 0s - loss: 0.5441\n",
      "Epoch 190/200\n",
      "1/1 - 0s - loss: 0.5373\n",
      "Epoch 191/200\n",
      "1/1 - 0s - loss: 0.5306\n",
      "Epoch 192/200\n",
      "1/1 - 0s - loss: 0.5240\n",
      "Epoch 193/200\n",
      "1/1 - 0s - loss: 0.5175\n",
      "Epoch 194/200\n",
      "1/1 - 0s - loss: 0.5110\n",
      "Epoch 195/200\n",
      "1/1 - 0s - loss: 0.5047\n",
      "Epoch 196/200\n",
      "1/1 - 0s - loss: 0.4983\n",
      "Epoch 197/200\n",
      "1/1 - 0s - loss: 0.4921\n",
      "Epoch 198/200\n",
      "1/1 - 0s - loss: 0.4860\n",
      "Epoch 199/200\n",
      "1/1 - 0s - loss: 0.4799\n",
      "Epoch 200/200\n",
      "1/1 - 0s - loss: 0.4739\n"
     ]
    }
   ],
   "source": [
    "data = [10,20,30,40,50,60,70,80,90]\n",
    "n_in = 3\n",
    "n_out = 1   #Change n_out = 2 for two-step forcasting, means it will predict next two values\n",
    "model = build_model(data,n_in,n_out)"
   ]
  },
  {
   "cell_type": "markdown",
   "metadata": {
    "id": "Y5mYtOPGf3Fg"
   },
   "source": [
    "*Observe how the `loss` has decreased with each epoch*"
   ]
  },
  {
   "cell_type": "markdown",
   "metadata": {
    "id": "8YGEhlXP2hBI"
   },
   "source": [
    "### Make prediction\n",
    "> As we converted the training data into a 3D Vector, similarly the test data also needs to be a 3D Vector, which here is made by using the `reshape()` function."
   ]
  },
  {
   "cell_type": "code",
   "execution_count": null,
   "metadata": {
    "colab": {
     "base_uri": "https://localhost:8080/",
     "height": 35
    },
    "executionInfo": {
     "elapsed": 1101,
     "status": "ok",
     "timestamp": 1596737441470,
     "user": {
      "displayName": "Deepanshu Choudhary",
      "photoUrl": "https://lh3.googleusercontent.com/a-/AOh14GhrrPB-FIXrpxMbNtdeFA3KeLw0nxuBrbMNb02d=s64",
      "userId": "16618687197378836235"
     },
     "user_tz": -330
    },
    "id": "foD9pi2e16AV",
    "outputId": "51defbcc-800b-41bc-de30-28c9aecb70f6"
   },
   "outputs": [
    {
     "data": {
      "text/plain": [
       "array([[102.31342]], dtype=float32)"
      ]
     },
     "execution_count": 7,
     "metadata": {
      "tags": []
     },
     "output_type": "execute_result"
    }
   ],
   "source": [
    "x_test = np.array([[70,80,90]])\n",
    "x_test = reshape(x_test)\n",
    "y_pred = model.predict(x_test,verbose=0)\n",
    "y_pred"
   ]
  },
  {
   "cell_type": "markdown",
   "metadata": {
    "id": "DAl5gMFce-Lt"
   },
   "source": [
    "*Given the stochastic(random) nature of the Neural Nets your results may differ from mine. As long as your `y_pred` is close to 100 (the next value in this case) you're good to go.*"
   ]
  },
  {
   "cell_type": "markdown",
   "metadata": {
    "id": "Prp69FUR2PX2"
   },
   "source": [
    "### END"
   ]
  }
 ],
 "metadata": {
  "colab": {
   "collapsed_sections": [],
   "name": "LSTM for Single and Multistep Forcasting.ipynb",
   "provenance": []
  },
  "kernelspec": {
   "display_name": "Python 3",
   "language": "python",
   "name": "python3"
  },
  "language_info": {
   "codemirror_mode": {
    "name": "ipython",
    "version": 3
   },
   "file_extension": ".py",
   "mimetype": "text/x-python",
   "name": "python",
   "nbconvert_exporter": "python",
   "pygments_lexer": "ipython3",
   "version": "3.5.2"
  }
 },
 "nbformat": 4,
 "nbformat_minor": 1
}
