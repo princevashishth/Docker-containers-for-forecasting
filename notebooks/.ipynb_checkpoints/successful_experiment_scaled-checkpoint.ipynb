{
 "cells": [
  {
   "cell_type": "code",
   "execution_count": 1,
   "metadata": {
    "colab": {
     "base_uri": "https://localhost:8080/"
    },
    "id": "rELFS7kxIZOZ",
    "outputId": "bf13a09f-6752-46a9-81c9-19faf5dc6185"
   },
   "outputs": [
    {
     "name": "stdout",
     "output_type": "stream",
     "text": [
      "sample_data\n"
     ]
    }
   ],
   "source": [
    "!ls"
   ]
  },
  {
   "cell_type": "code",
   "execution_count": 32,
   "metadata": {
    "id": "FoBgKyfiI_kO"
   },
   "outputs": [],
   "source": [
    "import pandas as pd\n",
    "\n",
    "df = {'seriesA': [3, 4, 5, 6, 7, 8, 9], 'seriesB': [23, 24, 25, 26, 27, 28, 29], 'seriesC': [53, 54, 55, 56, 57, 58, 59]}\n",
    "df = pd.DataFrame(df, columns = ['seriesA', 'seriesB', 'seriesC'])"
   ]
  },
  {
   "cell_type": "code",
   "execution_count": 33,
   "metadata": {
    "colab": {
     "base_uri": "https://localhost:8080/",
     "height": 206
    },
    "id": "LCebZ1PPJ3oj",
    "outputId": "a529ff58-8ae9-4c4b-b736-9648ba2b55c9"
   },
   "outputs": [
    {
     "data": {
      "text/html": [
       "<div>\n",
       "<style scoped>\n",
       "    .dataframe tbody tr th:only-of-type {\n",
       "        vertical-align: middle;\n",
       "    }\n",
       "\n",
       "    .dataframe tbody tr th {\n",
       "        vertical-align: top;\n",
       "    }\n",
       "\n",
       "    .dataframe thead th {\n",
       "        text-align: right;\n",
       "    }\n",
       "</style>\n",
       "<table border=\"1\" class=\"dataframe\">\n",
       "  <thead>\n",
       "    <tr style=\"text-align: right;\">\n",
       "      <th></th>\n",
       "      <th>seriesA</th>\n",
       "      <th>seriesB</th>\n",
       "      <th>seriesC</th>\n",
       "    </tr>\n",
       "  </thead>\n",
       "  <tbody>\n",
       "    <tr>\n",
       "      <th>0</th>\n",
       "      <td>3</td>\n",
       "      <td>23</td>\n",
       "      <td>53</td>\n",
       "    </tr>\n",
       "    <tr>\n",
       "      <th>1</th>\n",
       "      <td>4</td>\n",
       "      <td>24</td>\n",
       "      <td>54</td>\n",
       "    </tr>\n",
       "    <tr>\n",
       "      <th>2</th>\n",
       "      <td>5</td>\n",
       "      <td>25</td>\n",
       "      <td>55</td>\n",
       "    </tr>\n",
       "    <tr>\n",
       "      <th>3</th>\n",
       "      <td>6</td>\n",
       "      <td>26</td>\n",
       "      <td>56</td>\n",
       "    </tr>\n",
       "    <tr>\n",
       "      <th>4</th>\n",
       "      <td>7</td>\n",
       "      <td>27</td>\n",
       "      <td>57</td>\n",
       "    </tr>\n",
       "  </tbody>\n",
       "</table>\n",
       "</div>"
      ],
      "text/plain": [
       "   seriesA  seriesB  seriesC\n",
       "0        3       23       53\n",
       "1        4       24       54\n",
       "2        5       25       55\n",
       "3        6       26       56\n",
       "4        7       27       57"
      ]
     },
     "execution_count": 33,
     "metadata": {
      "tags": []
     },
     "output_type": "execute_result"
    }
   ],
   "source": [
    "df.head()"
   ]
  },
  {
   "cell_type": "code",
   "execution_count": 34,
   "metadata": {
    "id": "X5NsRdLGJ-YG"
   },
   "outputs": [],
   "source": [
    "from pandas import DataFrame\n",
    "from pandas import concat\n",
    "\n",
    "def series_to_supervised(data, n_in=1, n_out=1, dropnan=True):\n",
    "\tn_vars = 1 if type(data) is list else data.shape[1]\n",
    "\tdf = DataFrame(data)\n",
    "\tcols, names = list(), list()\n",
    "\t# input sequence (t-n, ... t-1)\n",
    "\tfor i in range(n_in, 0, -1):\n",
    "\t\tcols.append(df.shift(i))\n",
    "\t\tnames += [('var%d(t-%d)' % (j+1, i)) for j in range(n_vars)]\n",
    "\t# forecast sequence (t, t+1, ... t+n)\n",
    "\tfor i in range(0, n_out):\n",
    "\t\tcols.append(df.shift(-i))\n",
    "\t\tif i == 0:\n",
    "\t\t\tnames += [('var%d(t)' % (j+1)) for j in range(n_vars)]\n",
    "\t\telse:\n",
    "\t\t\tnames += [('var%d(t+%d)' % (j+1, i)) for j in range(n_vars)]\n",
    "\t# put it all together\n",
    "\tagg = concat(cols, axis=1)\n",
    "\tagg.columns = names\n",
    "\t# drop rows with NaN values\n",
    "\tif dropnan:\n",
    "\t\tagg.dropna(inplace=True)\n",
    "\treturn agg"
   ]
  },
  {
   "cell_type": "code",
   "execution_count": null,
   "metadata": {
    "id": "LWkMsUPsOS5D"
   },
   "outputs": [],
   "source": []
  },
  {
   "cell_type": "code",
   "execution_count": 35,
   "metadata": {
    "id": "GIQuwkTlKn3z"
   },
   "outputs": [],
   "source": [
    "import numpy as np\n",
    "values = df.values"
   ]
  },
  {
   "cell_type": "code",
   "execution_count": 38,
   "metadata": {
    "colab": {
     "base_uri": "https://localhost:8080/"
    },
    "id": "8abAgxeNKs71",
    "outputId": "1ba32b59-bace-499e-8d54-8cbe46da03f9"
   },
   "outputs": [
    {
     "data": {
      "text/plain": [
       "array([[ 3, 23, 53],\n",
       "       [ 4, 24, 54],\n",
       "       [ 5, 25, 55],\n",
       "       [ 6, 26, 56],\n",
       "       [ 7, 27, 57],\n",
       "       [ 8, 28, 58],\n",
       "       [ 9, 29, 59]])"
      ]
     },
     "execution_count": 38,
     "metadata": {
      "tags": []
     },
     "output_type": "execute_result"
    }
   ],
   "source": [
    "values"
   ]
  },
  {
   "cell_type": "code",
   "execution_count": 39,
   "metadata": {
    "id": "Ehdfz-nMLEcp"
   },
   "outputs": [],
   "source": [
    "from sklearn.preprocessing import MinMaxScaler\n",
    "\n",
    "values = df.values\n",
    "scaler = MinMaxScaler(feature_range=(0, 1))\n",
    "scaled = scaler.fit_transform(values)\n",
    "\n"
   ]
  },
  {
   "cell_type": "code",
   "execution_count": 40,
   "metadata": {
    "colab": {
     "base_uri": "https://localhost:8080/",
     "height": 175
    },
    "id": "_RGAo3e5Reqh",
    "outputId": "3e3dc5b3-ecef-4e36-c366-94ec0fd0bce9"
   },
   "outputs": [
    {
     "data": {
      "text/html": [
       "<div>\n",
       "<style scoped>\n",
       "    .dataframe tbody tr th:only-of-type {\n",
       "        vertical-align: middle;\n",
       "    }\n",
       "\n",
       "    .dataframe tbody tr th {\n",
       "        vertical-align: top;\n",
       "    }\n",
       "\n",
       "    .dataframe thead th {\n",
       "        text-align: right;\n",
       "    }\n",
       "</style>\n",
       "<table border=\"1\" class=\"dataframe\">\n",
       "  <thead>\n",
       "    <tr style=\"text-align: right;\">\n",
       "      <th></th>\n",
       "      <th>var1(t-2)</th>\n",
       "      <th>var2(t-2)</th>\n",
       "      <th>var3(t-2)</th>\n",
       "      <th>var1(t-1)</th>\n",
       "      <th>var2(t-1)</th>\n",
       "      <th>var3(t-1)</th>\n",
       "      <th>var1(t)</th>\n",
       "      <th>var2(t)</th>\n",
       "      <th>var3(t)</th>\n",
       "      <th>var1(t+1)</th>\n",
       "      <th>var2(t+1)</th>\n",
       "      <th>var3(t+1)</th>\n",
       "    </tr>\n",
       "  </thead>\n",
       "  <tbody>\n",
       "    <tr>\n",
       "      <th>2</th>\n",
       "      <td>0.000000</td>\n",
       "      <td>0.000000</td>\n",
       "      <td>0.000000</td>\n",
       "      <td>0.166667</td>\n",
       "      <td>0.166667</td>\n",
       "      <td>0.166667</td>\n",
       "      <td>0.333333</td>\n",
       "      <td>0.333333</td>\n",
       "      <td>0.333333</td>\n",
       "      <td>0.500000</td>\n",
       "      <td>0.500000</td>\n",
       "      <td>0.500000</td>\n",
       "    </tr>\n",
       "    <tr>\n",
       "      <th>3</th>\n",
       "      <td>0.166667</td>\n",
       "      <td>0.166667</td>\n",
       "      <td>0.166667</td>\n",
       "      <td>0.333333</td>\n",
       "      <td>0.333333</td>\n",
       "      <td>0.333333</td>\n",
       "      <td>0.500000</td>\n",
       "      <td>0.500000</td>\n",
       "      <td>0.500000</td>\n",
       "      <td>0.666667</td>\n",
       "      <td>0.666667</td>\n",
       "      <td>0.666667</td>\n",
       "    </tr>\n",
       "    <tr>\n",
       "      <th>4</th>\n",
       "      <td>0.333333</td>\n",
       "      <td>0.333333</td>\n",
       "      <td>0.333333</td>\n",
       "      <td>0.500000</td>\n",
       "      <td>0.500000</td>\n",
       "      <td>0.500000</td>\n",
       "      <td>0.666667</td>\n",
       "      <td>0.666667</td>\n",
       "      <td>0.666667</td>\n",
       "      <td>0.833333</td>\n",
       "      <td>0.833333</td>\n",
       "      <td>0.833333</td>\n",
       "    </tr>\n",
       "    <tr>\n",
       "      <th>5</th>\n",
       "      <td>0.500000</td>\n",
       "      <td>0.500000</td>\n",
       "      <td>0.500000</td>\n",
       "      <td>0.666667</td>\n",
       "      <td>0.666667</td>\n",
       "      <td>0.666667</td>\n",
       "      <td>0.833333</td>\n",
       "      <td>0.833333</td>\n",
       "      <td>0.833333</td>\n",
       "      <td>1.000000</td>\n",
       "      <td>1.000000</td>\n",
       "      <td>1.000000</td>\n",
       "    </tr>\n",
       "  </tbody>\n",
       "</table>\n",
       "</div>"
      ],
      "text/plain": [
       "   var1(t-2)  var2(t-2)  var3(t-2)  ...  var1(t+1)  var2(t+1)  var3(t+1)\n",
       "2   0.000000   0.000000   0.000000  ...   0.500000   0.500000   0.500000\n",
       "3   0.166667   0.166667   0.166667  ...   0.666667   0.666667   0.666667\n",
       "4   0.333333   0.333333   0.333333  ...   0.833333   0.833333   0.833333\n",
       "5   0.500000   0.500000   0.500000  ...   1.000000   1.000000   1.000000\n",
       "\n",
       "[4 rows x 12 columns]"
      ]
     },
     "execution_count": 40,
     "metadata": {
      "tags": []
     },
     "output_type": "execute_result"
    }
   ],
   "source": [
    "reframed = series_to_supervised(scaled, 2, 2)\n",
    "reframed.head()"
   ]
  },
  {
   "cell_type": "code",
   "execution_count": 42,
   "metadata": {
    "id": "8fraJ8loR-Zi"
   },
   "outputs": [],
   "source": [
    "reframed.drop(reframed.columns[10], axis=1, inplace=True)"
   ]
  },
  {
   "cell_type": "code",
   "execution_count": 43,
   "metadata": {
    "colab": {
     "base_uri": "https://localhost:8080/",
     "height": 175
    },
    "id": "r0wGj55ESXxt",
    "outputId": "ac9ad8ff-9a78-45ac-9b36-db6bcc67555e"
   },
   "outputs": [
    {
     "data": {
      "text/html": [
       "<div>\n",
       "<style scoped>\n",
       "    .dataframe tbody tr th:only-of-type {\n",
       "        vertical-align: middle;\n",
       "    }\n",
       "\n",
       "    .dataframe tbody tr th {\n",
       "        vertical-align: top;\n",
       "    }\n",
       "\n",
       "    .dataframe thead th {\n",
       "        text-align: right;\n",
       "    }\n",
       "</style>\n",
       "<table border=\"1\" class=\"dataframe\">\n",
       "  <thead>\n",
       "    <tr style=\"text-align: right;\">\n",
       "      <th></th>\n",
       "      <th>var1(t-2)</th>\n",
       "      <th>var2(t-2)</th>\n",
       "      <th>var3(t-2)</th>\n",
       "      <th>var1(t-1)</th>\n",
       "      <th>var2(t-1)</th>\n",
       "      <th>var3(t-1)</th>\n",
       "      <th>var1(t)</th>\n",
       "      <th>var2(t)</th>\n",
       "      <th>var3(t)</th>\n",
       "      <th>var1(t+1)</th>\n",
       "      <th>var3(t+1)</th>\n",
       "    </tr>\n",
       "  </thead>\n",
       "  <tbody>\n",
       "    <tr>\n",
       "      <th>2</th>\n",
       "      <td>0.000000</td>\n",
       "      <td>0.000000</td>\n",
       "      <td>0.000000</td>\n",
       "      <td>0.166667</td>\n",
       "      <td>0.166667</td>\n",
       "      <td>0.166667</td>\n",
       "      <td>0.333333</td>\n",
       "      <td>0.333333</td>\n",
       "      <td>0.333333</td>\n",
       "      <td>0.500000</td>\n",
       "      <td>0.500000</td>\n",
       "    </tr>\n",
       "    <tr>\n",
       "      <th>3</th>\n",
       "      <td>0.166667</td>\n",
       "      <td>0.166667</td>\n",
       "      <td>0.166667</td>\n",
       "      <td>0.333333</td>\n",
       "      <td>0.333333</td>\n",
       "      <td>0.333333</td>\n",
       "      <td>0.500000</td>\n",
       "      <td>0.500000</td>\n",
       "      <td>0.500000</td>\n",
       "      <td>0.666667</td>\n",
       "      <td>0.666667</td>\n",
       "    </tr>\n",
       "    <tr>\n",
       "      <th>4</th>\n",
       "      <td>0.333333</td>\n",
       "      <td>0.333333</td>\n",
       "      <td>0.333333</td>\n",
       "      <td>0.500000</td>\n",
       "      <td>0.500000</td>\n",
       "      <td>0.500000</td>\n",
       "      <td>0.666667</td>\n",
       "      <td>0.666667</td>\n",
       "      <td>0.666667</td>\n",
       "      <td>0.833333</td>\n",
       "      <td>0.833333</td>\n",
       "    </tr>\n",
       "    <tr>\n",
       "      <th>5</th>\n",
       "      <td>0.500000</td>\n",
       "      <td>0.500000</td>\n",
       "      <td>0.500000</td>\n",
       "      <td>0.666667</td>\n",
       "      <td>0.666667</td>\n",
       "      <td>0.666667</td>\n",
       "      <td>0.833333</td>\n",
       "      <td>0.833333</td>\n",
       "      <td>0.833333</td>\n",
       "      <td>1.000000</td>\n",
       "      <td>1.000000</td>\n",
       "    </tr>\n",
       "  </tbody>\n",
       "</table>\n",
       "</div>"
      ],
      "text/plain": [
       "   var1(t-2)  var2(t-2)  var3(t-2)  ...   var3(t)  var1(t+1)  var3(t+1)\n",
       "2   0.000000   0.000000   0.000000  ...  0.333333   0.500000   0.500000\n",
       "3   0.166667   0.166667   0.166667  ...  0.500000   0.666667   0.666667\n",
       "4   0.333333   0.333333   0.333333  ...  0.666667   0.833333   0.833333\n",
       "5   0.500000   0.500000   0.500000  ...  0.833333   1.000000   1.000000\n",
       "\n",
       "[4 rows x 11 columns]"
      ]
     },
     "execution_count": 43,
     "metadata": {
      "tags": []
     },
     "output_type": "execute_result"
    }
   ],
   "source": [
    "reframed.head()"
   ]
  },
  {
   "cell_type": "code",
   "execution_count": 44,
   "metadata": {
    "colab": {
     "base_uri": "https://localhost:8080/",
     "height": 175
    },
    "id": "NZ5abPJ8ShzT",
    "outputId": "e9f4b534-9c33-40bc-c3a7-ac82678f0977"
   },
   "outputs": [
    {
     "data": {
      "text/html": [
       "<div>\n",
       "<style scoped>\n",
       "    .dataframe tbody tr th:only-of-type {\n",
       "        vertical-align: middle;\n",
       "    }\n",
       "\n",
       "    .dataframe tbody tr th {\n",
       "        vertical-align: top;\n",
       "    }\n",
       "\n",
       "    .dataframe thead th {\n",
       "        text-align: right;\n",
       "    }\n",
       "</style>\n",
       "<table border=\"1\" class=\"dataframe\">\n",
       "  <thead>\n",
       "    <tr style=\"text-align: right;\">\n",
       "      <th></th>\n",
       "      <th>var1(t-2)</th>\n",
       "      <th>var2(t-2)</th>\n",
       "      <th>var3(t-2)</th>\n",
       "      <th>var1(t-1)</th>\n",
       "      <th>var2(t-1)</th>\n",
       "      <th>var3(t-1)</th>\n",
       "      <th>var1(t)</th>\n",
       "      <th>var2(t)</th>\n",
       "      <th>var3(t)</th>\n",
       "      <th>var3(t+1)</th>\n",
       "    </tr>\n",
       "  </thead>\n",
       "  <tbody>\n",
       "    <tr>\n",
       "      <th>2</th>\n",
       "      <td>0.000000</td>\n",
       "      <td>0.000000</td>\n",
       "      <td>0.000000</td>\n",
       "      <td>0.166667</td>\n",
       "      <td>0.166667</td>\n",
       "      <td>0.166667</td>\n",
       "      <td>0.333333</td>\n",
       "      <td>0.333333</td>\n",
       "      <td>0.333333</td>\n",
       "      <td>0.500000</td>\n",
       "    </tr>\n",
       "    <tr>\n",
       "      <th>3</th>\n",
       "      <td>0.166667</td>\n",
       "      <td>0.166667</td>\n",
       "      <td>0.166667</td>\n",
       "      <td>0.333333</td>\n",
       "      <td>0.333333</td>\n",
       "      <td>0.333333</td>\n",
       "      <td>0.500000</td>\n",
       "      <td>0.500000</td>\n",
       "      <td>0.500000</td>\n",
       "      <td>0.666667</td>\n",
       "    </tr>\n",
       "    <tr>\n",
       "      <th>4</th>\n",
       "      <td>0.333333</td>\n",
       "      <td>0.333333</td>\n",
       "      <td>0.333333</td>\n",
       "      <td>0.500000</td>\n",
       "      <td>0.500000</td>\n",
       "      <td>0.500000</td>\n",
       "      <td>0.666667</td>\n",
       "      <td>0.666667</td>\n",
       "      <td>0.666667</td>\n",
       "      <td>0.833333</td>\n",
       "    </tr>\n",
       "    <tr>\n",
       "      <th>5</th>\n",
       "      <td>0.500000</td>\n",
       "      <td>0.500000</td>\n",
       "      <td>0.500000</td>\n",
       "      <td>0.666667</td>\n",
       "      <td>0.666667</td>\n",
       "      <td>0.666667</td>\n",
       "      <td>0.833333</td>\n",
       "      <td>0.833333</td>\n",
       "      <td>0.833333</td>\n",
       "      <td>1.000000</td>\n",
       "    </tr>\n",
       "  </tbody>\n",
       "</table>\n",
       "</div>"
      ],
      "text/plain": [
       "   var1(t-2)  var2(t-2)  var3(t-2)  ...   var2(t)   var3(t)  var3(t+1)\n",
       "2   0.000000   0.000000   0.000000  ...  0.333333  0.333333   0.500000\n",
       "3   0.166667   0.166667   0.166667  ...  0.500000  0.500000   0.666667\n",
       "4   0.333333   0.333333   0.333333  ...  0.666667  0.666667   0.833333\n",
       "5   0.500000   0.500000   0.500000  ...  0.833333  0.833333   1.000000\n",
       "\n",
       "[4 rows x 10 columns]"
      ]
     },
     "execution_count": 44,
     "metadata": {
      "tags": []
     },
     "output_type": "execute_result"
    }
   ],
   "source": [
    "reframed.drop(reframed.columns[9], axis=1, inplace=True)\n",
    "reframed.head()"
   ]
  },
  {
   "cell_type": "code",
   "execution_count": 59,
   "metadata": {
    "id": "YZe8P7CYbLm8"
   },
   "outputs": [],
   "source": [
    "values = reframed.values\n",
    "train = values[:3, :]\n",
    "test = values[3:, :]\n",
    "train_x, train_y = train[:, :-2], train[:, [8,9]]\n",
    "test_x, test_y = test[:, :-2], test[:, [8,9]]\n"
   ]
  },
  {
   "cell_type": "code",
   "execution_count": 61,
   "metadata": {
    "colab": {
     "base_uri": "https://localhost:8080/"
    },
    "id": "30u41_VRfBwq",
    "outputId": "6525ecac-5f34-41fc-cff1-a9d170d1257e"
   },
   "outputs": [
    {
     "data": {
      "text/plain": [
       "array([[0.83333333, 1.        ]])"
      ]
     },
     "execution_count": 61,
     "metadata": {
      "tags": []
     },
     "output_type": "execute_result"
    }
   ],
   "source": [
    "test_y"
   ]
  },
  {
   "cell_type": "code",
   "execution_count": 63,
   "metadata": {
    "id": "EIKoLuOSfAvD"
   },
   "outputs": [],
   "source": [
    "train_x = train_x.reshape((train_x.shape[0], 2, 4))  # decreasing number of features here for correct reshape\n",
    "test_x = test_x.reshape((test_x.shape[0], 2, 4))"
   ]
  },
  {
   "cell_type": "code",
   "execution_count": 64,
   "metadata": {
    "colab": {
     "base_uri": "https://localhost:8080/"
    },
    "id": "1TCBL98mds_6",
    "outputId": "0ba80d96-32ee-4bb9-a932-c197b487ad93"
   },
   "outputs": [
    {
     "data": {
      "text/plain": [
       "((3, 2, 4), (1, 2, 4), (3, 2), (1, 2))"
      ]
     },
     "execution_count": 64,
     "metadata": {
      "tags": []
     },
     "output_type": "execute_result"
    }
   ],
   "source": [
    "train_x.shape, test_x.shape, train_y.shape, test_y.shape"
   ]
  },
  {
   "cell_type": "code",
   "execution_count": 76,
   "metadata": {
    "colab": {
     "base_uri": "https://localhost:8080/",
     "height": 1000
    },
    "id": "CwwSRFb7cDtB",
    "outputId": "3dfb04d4-da51-4a72-be76-e3acff3306a3"
   },
   "outputs": [
    {
     "name": "stdout",
     "output_type": "stream",
     "text": [
      "Epoch 1/150\n",
      "1/1 - 2s - loss: 0.4152 - val_loss: 0.8517\n",
      "Epoch 2/150\n",
      "1/1 - 0s - loss: 0.4156 - val_loss: 0.8394\n",
      "Epoch 3/150\n",
      "1/1 - 0s - loss: 0.3581 - val_loss: 0.8277\n",
      "Epoch 4/150\n",
      "1/1 - 0s - loss: 0.3282 - val_loss: 0.8162\n",
      "Epoch 5/150\n",
      "1/1 - 0s - loss: 0.3675 - val_loss: 0.8045\n",
      "Epoch 6/150\n",
      "1/1 - 0s - loss: 0.3491 - val_loss: 0.7929\n",
      "Epoch 7/150\n",
      "1/1 - 0s - loss: 0.3281 - val_loss: 0.7816\n",
      "Epoch 8/150\n",
      "1/1 - 0s - loss: 0.3701 - val_loss: 0.7702\n",
      "Epoch 9/150\n",
      "1/1 - 0s - loss: 0.3234 - val_loss: 0.7591\n",
      "Epoch 10/150\n",
      "1/1 - 0s - loss: 0.3199 - val_loss: 0.7481\n",
      "Epoch 11/150\n",
      "1/1 - 0s - loss: 0.3128 - val_loss: 0.7373\n",
      "Epoch 12/150\n",
      "1/1 - 0s - loss: 0.3004 - val_loss: 0.7265\n",
      "Epoch 13/150\n",
      "1/1 - 0s - loss: 0.3084 - val_loss: 0.7159\n",
      "Epoch 14/150\n",
      "1/1 - 0s - loss: 0.3126 - val_loss: 0.7053\n",
      "Epoch 15/150\n",
      "1/1 - 0s - loss: 0.3082 - val_loss: 0.6949\n",
      "Epoch 16/150\n",
      "1/1 - 0s - loss: 0.2937 - val_loss: 0.6847\n",
      "Epoch 17/150\n",
      "1/1 - 0s - loss: 0.3050 - val_loss: 0.6744\n",
      "Epoch 18/150\n",
      "1/1 - 0s - loss: 0.2881 - val_loss: 0.6641\n",
      "Epoch 19/150\n",
      "1/1 - 0s - loss: 0.2790 - val_loss: 0.6539\n",
      "Epoch 20/150\n",
      "1/1 - 0s - loss: 0.2882 - val_loss: 0.6438\n",
      "Epoch 21/150\n",
      "1/1 - 0s - loss: 0.2768 - val_loss: 0.6337\n",
      "Epoch 22/150\n",
      "1/1 - 0s - loss: 0.2831 - val_loss: 0.6237\n",
      "Epoch 23/150\n",
      "1/1 - 0s - loss: 0.2559 - val_loss: 0.6136\n",
      "Epoch 24/150\n",
      "1/1 - 0s - loss: 0.2630 - val_loss: 0.6036\n",
      "Epoch 25/150\n",
      "1/1 - 0s - loss: 0.2645 - val_loss: 0.5936\n",
      "Epoch 26/150\n",
      "1/1 - 0s - loss: 0.2589 - val_loss: 0.5838\n",
      "Epoch 27/150\n",
      "1/1 - 0s - loss: 0.2837 - val_loss: 0.5740\n",
      "Epoch 28/150\n",
      "1/1 - 0s - loss: 0.3123 - val_loss: 0.5645\n",
      "Epoch 29/150\n",
      "1/1 - 0s - loss: 0.2567 - val_loss: 0.5549\n",
      "Epoch 30/150\n",
      "1/1 - 0s - loss: 0.2393 - val_loss: 0.5453\n",
      "Epoch 31/150\n",
      "1/1 - 0s - loss: 0.2263 - val_loss: 0.5356\n",
      "Epoch 32/150\n",
      "1/1 - 0s - loss: 0.2229 - val_loss: 0.5261\n",
      "Epoch 33/150\n",
      "1/1 - 0s - loss: 0.2136 - val_loss: 0.5166\n",
      "Epoch 34/150\n",
      "1/1 - 0s - loss: 0.2361 - val_loss: 0.5071\n",
      "Epoch 35/150\n",
      "1/1 - 0s - loss: 0.2378 - val_loss: 0.4976\n",
      "Epoch 36/150\n",
      "1/1 - 0s - loss: 0.2295 - val_loss: 0.4882\n",
      "Epoch 37/150\n",
      "1/1 - 0s - loss: 0.2561 - val_loss: 0.4789\n",
      "Epoch 38/150\n",
      "1/1 - 0s - loss: 0.2374 - val_loss: 0.4696\n",
      "Epoch 39/150\n",
      "1/1 - 0s - loss: 0.2270 - val_loss: 0.4604\n",
      "Epoch 40/150\n",
      "1/1 - 0s - loss: 0.1889 - val_loss: 0.4513\n",
      "Epoch 41/150\n",
      "1/1 - 0s - loss: 0.1932 - val_loss: 0.4421\n",
      "Epoch 42/150\n",
      "1/1 - 0s - loss: 0.1942 - val_loss: 0.4330\n",
      "Epoch 43/150\n",
      "1/1 - 0s - loss: 0.1956 - val_loss: 0.4242\n",
      "Epoch 44/150\n",
      "1/1 - 0s - loss: 0.1653 - val_loss: 0.4152\n",
      "Epoch 45/150\n",
      "1/1 - 0s - loss: 0.2073 - val_loss: 0.4065\n",
      "Epoch 46/150\n",
      "1/1 - 0s - loss: 0.1596 - val_loss: 0.3977\n",
      "Epoch 47/150\n",
      "1/1 - 0s - loss: 0.1972 - val_loss: 0.3891\n",
      "Epoch 48/150\n",
      "1/1 - 0s - loss: 0.1665 - val_loss: 0.3804\n",
      "Epoch 49/150\n",
      "1/1 - 0s - loss: 0.1802 - val_loss: 0.3719\n",
      "Epoch 50/150\n",
      "1/1 - 0s - loss: 0.2008 - val_loss: 0.3634\n",
      "Epoch 51/150\n",
      "1/1 - 0s - loss: 0.1527 - val_loss: 0.3549\n",
      "Epoch 52/150\n",
      "1/1 - 0s - loss: 0.1606 - val_loss: 0.3465\n",
      "Epoch 53/150\n",
      "1/1 - 0s - loss: 0.1400 - val_loss: 0.3381\n",
      "Epoch 54/150\n",
      "1/1 - 0s - loss: 0.1405 - val_loss: 0.3297\n",
      "Epoch 55/150\n",
      "1/1 - 0s - loss: 0.1515 - val_loss: 0.3214\n",
      "Epoch 56/150\n",
      "1/1 - 0s - loss: 0.1224 - val_loss: 0.3130\n",
      "Epoch 57/150\n",
      "1/1 - 0s - loss: 0.1381 - val_loss: 0.3048\n",
      "Epoch 58/150\n",
      "1/1 - 0s - loss: 0.1470 - val_loss: 0.2967\n",
      "Epoch 59/150\n",
      "1/1 - 0s - loss: 0.1134 - val_loss: 0.2886\n",
      "Epoch 60/150\n",
      "1/1 - 0s - loss: 0.1561 - val_loss: 0.2806\n",
      "Epoch 61/150\n",
      "1/1 - 0s - loss: 0.1283 - val_loss: 0.2726\n",
      "Epoch 62/150\n",
      "1/1 - 0s - loss: 0.1226 - val_loss: 0.2648\n",
      "Epoch 63/150\n",
      "1/1 - 0s - loss: 0.1621 - val_loss: 0.2570\n",
      "Epoch 64/150\n",
      "1/1 - 0s - loss: 0.0992 - val_loss: 0.2493\n",
      "Epoch 65/150\n",
      "1/1 - 0s - loss: 0.1573 - val_loss: 0.2418\n",
      "Epoch 66/150\n",
      "1/1 - 0s - loss: 0.1397 - val_loss: 0.2344\n",
      "Epoch 67/150\n",
      "1/1 - 0s - loss: 0.0950 - val_loss: 0.2272\n",
      "Epoch 68/150\n",
      "1/1 - 0s - loss: 0.0949 - val_loss: 0.2201\n",
      "Epoch 69/150\n",
      "1/1 - 0s - loss: 0.0796 - val_loss: 0.2132\n",
      "Epoch 70/150\n",
      "1/1 - 0s - loss: 0.0915 - val_loss: 0.2064\n",
      "Epoch 71/150\n",
      "1/1 - 0s - loss: 0.1035 - val_loss: 0.1997\n",
      "Epoch 72/150\n",
      "1/1 - 0s - loss: 0.1048 - val_loss: 0.1931\n",
      "Epoch 73/150\n",
      "1/1 - 0s - loss: 0.0954 - val_loss: 0.1866\n",
      "Epoch 74/150\n",
      "1/1 - 0s - loss: 0.1158 - val_loss: 0.1802\n",
      "Epoch 75/150\n",
      "1/1 - 0s - loss: 0.0893 - val_loss: 0.1738\n",
      "Epoch 76/150\n",
      "1/1 - 0s - loss: 0.0816 - val_loss: 0.1676\n",
      "Epoch 77/150\n",
      "1/1 - 0s - loss: 0.0731 - val_loss: 0.1616\n",
      "Epoch 78/150\n",
      "1/1 - 0s - loss: 0.0946 - val_loss: 0.1557\n",
      "Epoch 79/150\n",
      "1/1 - 0s - loss: 0.0674 - val_loss: 0.1500\n",
      "Epoch 80/150\n",
      "1/1 - 0s - loss: 0.0468 - val_loss: 0.1445\n",
      "Epoch 81/150\n",
      "1/1 - 0s - loss: 0.0517 - val_loss: 0.1391\n",
      "Epoch 82/150\n",
      "1/1 - 0s - loss: 0.0712 - val_loss: 0.1338\n",
      "Epoch 83/150\n",
      "1/1 - 0s - loss: 0.0808 - val_loss: 0.1286\n",
      "Epoch 84/150\n",
      "1/1 - 0s - loss: 0.0892 - val_loss: 0.1235\n",
      "Epoch 85/150\n",
      "1/1 - 0s - loss: 0.0371 - val_loss: 0.1186\n",
      "Epoch 86/150\n",
      "1/1 - 0s - loss: 0.0680 - val_loss: 0.1137\n",
      "Epoch 87/150\n",
      "1/1 - 0s - loss: 0.0370 - val_loss: 0.1090\n",
      "Epoch 88/150\n",
      "1/1 - 0s - loss: 0.0762 - val_loss: 0.1045\n",
      "Epoch 89/150\n",
      "1/1 - 0s - loss: 0.1051 - val_loss: 0.1001\n",
      "Epoch 90/150\n",
      "1/1 - 0s - loss: 0.0716 - val_loss: 0.0958\n",
      "Epoch 91/150\n",
      "1/1 - 0s - loss: 0.0397 - val_loss: 0.0916\n",
      "Epoch 92/150\n",
      "1/1 - 0s - loss: 0.0405 - val_loss: 0.0875\n",
      "Epoch 93/150\n",
      "1/1 - 0s - loss: 0.0540 - val_loss: 0.0836\n",
      "Epoch 94/150\n",
      "1/1 - 0s - loss: 0.0572 - val_loss: 0.0799\n",
      "Epoch 95/150\n",
      "1/1 - 0s - loss: 0.0708 - val_loss: 0.0761\n",
      "Epoch 96/150\n",
      "1/1 - 0s - loss: 0.0331 - val_loss: 0.0725\n",
      "Epoch 97/150\n",
      "1/1 - 0s - loss: 0.0388 - val_loss: 0.0690\n",
      "Epoch 98/150\n",
      "1/1 - 0s - loss: 0.0673 - val_loss: 0.0655\n",
      "Epoch 99/150\n",
      "1/1 - 0s - loss: 0.0343 - val_loss: 0.0622\n",
      "Epoch 100/150\n",
      "1/1 - 0s - loss: 0.0274 - val_loss: 0.0590\n",
      "Epoch 101/150\n",
      "1/1 - 0s - loss: 0.0387 - val_loss: 0.0558\n",
      "Epoch 102/150\n",
      "1/1 - 0s - loss: 0.0426 - val_loss: 0.0528\n",
      "Epoch 103/150\n",
      "1/1 - 0s - loss: 0.0540 - val_loss: 0.0500\n",
      "Epoch 104/150\n",
      "1/1 - 0s - loss: 0.0312 - val_loss: 0.0472\n",
      "Epoch 105/150\n",
      "1/1 - 0s - loss: 0.0545 - val_loss: 0.0447\n",
      "Epoch 106/150\n",
      "1/1 - 0s - loss: 0.0274 - val_loss: 0.0422\n",
      "Epoch 107/150\n",
      "1/1 - 0s - loss: 0.0361 - val_loss: 0.0398\n",
      "Epoch 108/150\n",
      "1/1 - 0s - loss: 0.0608 - val_loss: 0.0374\n",
      "Epoch 109/150\n",
      "1/1 - 0s - loss: 0.0320 - val_loss: 0.0352\n",
      "Epoch 110/150\n",
      "1/1 - 0s - loss: 0.0292 - val_loss: 0.0331\n",
      "Epoch 111/150\n",
      "1/1 - 0s - loss: 0.0472 - val_loss: 0.0311\n",
      "Epoch 112/150\n",
      "1/1 - 0s - loss: 0.0370 - val_loss: 0.0291\n",
      "Epoch 113/150\n",
      "1/1 - 0s - loss: 0.0335 - val_loss: 0.0272\n",
      "Epoch 114/150\n",
      "1/1 - 0s - loss: 0.0233 - val_loss: 0.0255\n",
      "Epoch 115/150\n",
      "1/1 - 0s - loss: 0.0401 - val_loss: 0.0238\n",
      "Epoch 116/150\n",
      "1/1 - 0s - loss: 0.0366 - val_loss: 0.0221\n",
      "Epoch 117/150\n",
      "1/1 - 0s - loss: 0.0075 - val_loss: 0.0207\n",
      "Epoch 118/150\n",
      "1/1 - 0s - loss: 0.0119 - val_loss: 0.0193\n",
      "Epoch 119/150\n",
      "1/1 - 0s - loss: 0.0315 - val_loss: 0.0181\n",
      "Epoch 120/150\n",
      "1/1 - 0s - loss: 0.0127 - val_loss: 0.0169\n",
      "Epoch 121/150\n",
      "1/1 - 0s - loss: 0.0444 - val_loss: 0.0157\n",
      "Epoch 122/150\n",
      "1/1 - 0s - loss: 0.0738 - val_loss: 0.0146\n",
      "Epoch 123/150\n",
      "1/1 - 0s - loss: 0.0133 - val_loss: 0.0135\n",
      "Epoch 124/150\n",
      "1/1 - 0s - loss: 0.0179 - val_loss: 0.0125\n",
      "Epoch 125/150\n",
      "1/1 - 0s - loss: 0.0182 - val_loss: 0.0115\n",
      "Epoch 126/150\n",
      "1/1 - 0s - loss: 0.0227 - val_loss: 0.0106\n",
      "Epoch 127/150\n",
      "1/1 - 0s - loss: 0.0705 - val_loss: 0.0097\n",
      "Epoch 128/150\n",
      "1/1 - 0s - loss: 0.0263 - val_loss: 0.0088\n",
      "Epoch 129/150\n",
      "1/1 - 0s - loss: 0.0134 - val_loss: 0.0081\n",
      "Epoch 130/150\n",
      "1/1 - 0s - loss: 0.0224 - val_loss: 0.0074\n",
      "Epoch 131/150\n",
      "1/1 - 0s - loss: 0.0428 - val_loss: 0.0068\n",
      "Epoch 132/150\n",
      "1/1 - 0s - loss: 0.0199 - val_loss: 0.0061\n",
      "Epoch 133/150\n",
      "1/1 - 0s - loss: 0.0157 - val_loss: 0.0055\n",
      "Epoch 134/150\n",
      "1/1 - 0s - loss: 0.0515 - val_loss: 0.0050\n",
      "Epoch 135/150\n",
      "1/1 - 0s - loss: 0.0194 - val_loss: 0.0045\n",
      "Epoch 136/150\n",
      "1/1 - 0s - loss: 0.0264 - val_loss: 0.0041\n",
      "Epoch 137/150\n",
      "1/1 - 0s - loss: 0.0325 - val_loss: 0.0037\n",
      "Epoch 138/150\n",
      "1/1 - 0s - loss: 0.0079 - val_loss: 0.0034\n",
      "Epoch 139/150\n",
      "1/1 - 0s - loss: 0.0088 - val_loss: 0.0030\n",
      "Epoch 140/150\n",
      "1/1 - 0s - loss: 0.0366 - val_loss: 0.0028\n",
      "Epoch 141/150\n",
      "1/1 - 0s - loss: 0.0283 - val_loss: 0.0026\n",
      "Epoch 142/150\n",
      "1/1 - 0s - loss: 0.0210 - val_loss: 0.0023\n",
      "Epoch 143/150\n",
      "1/1 - 0s - loss: 0.0054 - val_loss: 0.0022\n",
      "Epoch 144/150\n",
      "1/1 - 0s - loss: 0.0159 - val_loss: 0.0020\n",
      "Epoch 145/150\n",
      "1/1 - 0s - loss: 0.0321 - val_loss: 0.0019\n",
      "Epoch 146/150\n",
      "1/1 - 0s - loss: 0.0217 - val_loss: 0.0018\n",
      "Epoch 147/150\n",
      "1/1 - 0s - loss: 0.0067 - val_loss: 0.0017\n",
      "Epoch 148/150\n",
      "1/1 - 0s - loss: 0.0058 - val_loss: 0.0016\n",
      "Epoch 149/150\n",
      "1/1 - 0s - loss: 0.0636 - val_loss: 0.0015\n",
      "Epoch 150/150\n",
      "1/1 - 0s - loss: 0.0049 - val_loss: 0.0014\n"
     ]
    },
    {
     "data": {
      "image/png": "[encoded data removed]",
      "text/plain": [
       "<Figure size 432x288 with 1 Axes>"
      ]
     },
     "metadata": {
      "needs_background": "light",
      "tags": []
     },
     "output_type": "display_data"
    }
   ],
   "source": [
    "from keras.models import Sequential\n",
    "from keras.layers import LSTM\n",
    "from keras.layers import Dropout\n",
    "from keras.layers import Dense\n",
    "from sklearn.metrics import mean_squared_error,r2_score\n",
    "import matplotlib.pyplot as plt\n",
    "import numpy as np\n",
    "\n",
    "model = Sequential()\n",
    "model.add(LSTM(10, input_shape=(train_x.shape[1], train_x.shape[2])))\n",
    "model.add(Dropout(0.2))\n",
    "model.add(Dense(2))   # final layer should have neurons upto how many time steps we want to predict\n",
    "model.compile(loss='mean_squared_error', optimizer='adam')\n",
    "\n",
    "# Network fitting\n",
    "history = model.fit(train_x, train_y, epochs=150, validation_data=(test_x, test_y), verbose=2, shuffle=False)\n",
    "\n",
    "# Loss history plot\n",
    "plt.plot(history.history['loss'])\n",
    "plt.plot(history.history['val_loss'])\n",
    "plt.title('model loss')\n",
    "plt.ylabel('loss')\n",
    "plt.xlabel('epoch')\n",
    "plt.legend(['train', 'test'], loc='upper right')\n",
    "plt.show()\n",
    "\n",
    "\n"
   ]
  },
  {
   "cell_type": "code",
   "execution_count": 66,
   "metadata": {
    "id": "cMM0EeZki1Mq"
   },
   "outputs": [],
   "source": [
    "size = df.shape[1]\n"
   ]
  },
  {
   "cell_type": "code",
   "execution_count": 67,
   "metadata": {
    "colab": {
     "base_uri": "https://localhost:8080/"
    },
    "id": "ZukwQgDCi4RA",
    "outputId": "14196735-b34a-4b65-ca45-4f86e837429c"
   },
   "outputs": [
    {
     "data": {
      "text/plain": [
       "3"
      ]
     },
     "execution_count": 67,
     "metadata": {
      "tags": []
     },
     "output_type": "execute_result"
    }
   ],
   "source": [
    "size"
   ]
  },
  {
   "cell_type": "code",
   "execution_count": null,
   "metadata": {
    "id": "yFLVCQIZi7_c"
   },
   "outputs": [],
   "source": []
  },
  {
   "cell_type": "code",
   "execution_count": 77,
   "metadata": {
    "id": "tIJ3za4vdh26"
   },
   "outputs": [],
   "source": [
    "\n",
    "# Prediction test\n",
    "yhat = model.predict(test_x)\n"
   ]
  },
  {
   "cell_type": "code",
   "execution_count": 78,
   "metadata": {
    "colab": {
     "base_uri": "https://localhost:8080/"
    },
    "id": "xOzVFq7yjfnK",
    "outputId": "494400a9-f9c1-43e9-a326-0dd8908292c6"
   },
   "outputs": [
    {
     "data": {
      "text/plain": [
       "array([[0.79450715, 0.96280634]], dtype=float32)"
      ]
     },
     "execution_count": 78,
     "metadata": {
      "tags": []
     },
     "output_type": "execute_result"
    }
   ],
   "source": [
    "yhat"
   ]
  },
  {
   "cell_type": "code",
   "execution_count": 73,
   "metadata": {
    "colab": {
     "base_uri": "https://localhost:8080/"
    },
    "id": "YdUuG_EUkI2x",
    "outputId": "43152936-2200-49d1-951f-f9f8293137e9"
   },
   "outputs": [
    {
     "data": {
      "text/plain": [
       "array([[0.83333333, 1.        ]])"
      ]
     },
     "execution_count": 73,
     "metadata": {
      "tags": []
     },
     "output_type": "execute_result"
    }
   ],
   "source": [
    "test_y"
   ]
  },
  {
   "cell_type": "code",
   "execution_count": null,
   "metadata": {
    "id": "Si47byqqjeac"
   },
   "outputs": [],
   "source": []
  },
  {
   "cell_type": "code",
   "execution_count": 81,
   "metadata": {
    "colab": {
     "base_uri": "https://localhost:8080/"
    },
    "id": "6GHPKFLIpXmb",
    "outputId": "e59e08e0-8230-4807-f7e4-d5b6044a6725"
   },
   "outputs": [
    {
     "data": {
      "text/plain": [
       "array([[58., 59.]])"
      ]
     },
     "execution_count": 81,
     "metadata": {
      "tags": []
     },
     "output_type": "execute_result"
    }
   ],
   "source": [
    "test_y0 = test_y\n",
    "53 + test_y0*(6)"
   ]
  },
  {
   "cell_type": "code",
   "execution_count": 82,
   "metadata": {
    "colab": {
     "base_uri": "https://localhost:8080/"
    },
    "id": "CKGkKFcJtwwg",
    "outputId": "db1a2735-e015-426a-c420-b88b977e18df"
   },
   "outputs": [
    {
     "data": {
      "text/plain": [
       "array([[57.767044, 58.77684 ]], dtype=float32)"
      ]
     },
     "execution_count": 82,
     "metadata": {
      "tags": []
     },
     "output_type": "execute_result"
    }
   ],
   "source": [
    "53 + yhat*(6)"
   ]
  }
 ],
 "metadata": {
  "colab": {
   "name": "successful_experiment_scaled.ipynb",
   "provenance": []
  },
  "kernelspec": {
   "display_name": "Python 3",
   "language": "python",
   "name": "python3"
  },
  "language_info": {
   "codemirror_mode": {
    "name": "ipython",
    "version": 3
   },
   "file_extension": ".py",
   "mimetype": "text/x-python",
   "name": "python",
   "nbconvert_exporter": "python",
   "pygments_lexer": "ipython3",
   "version": "3.5.2"
  }
 },
 "nbformat": 4,
 "nbformat_minor": 1
}
